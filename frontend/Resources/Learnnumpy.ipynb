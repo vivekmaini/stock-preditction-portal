{
 "cells": [
  {
   "cell_type": "code",
   "execution_count": 4,
   "id": "82ea2a79-2024-42dd-b849-24143c014515",
   "metadata": {},
   "outputs": [],
   "source": [
    "import numpy as np"
   ]
  },
  {
   "attachments": {},
   "cell_type": "markdown",
   "id": "5de920b2-9495-4c1f-866a-b8d8a26d719c",
   "metadata": {},
   "source": [
    "#Create 1D Array"
   ]
  },
  {
   "cell_type": "code",
   "execution_count": null,
   "id": "eed15112-7f99-4ce8-a76f-c0fea9a5945e",
   "metadata": {},
   "outputs": [],
   "source": [
    "arr1=np.array([1,2,3,4])"
   ]
  },
  {
   "cell_type": "code",
   "execution_count": 8,
   "id": "80eba3b4-4a67-43da-9f77-357db76ccba1",
   "metadata": {},
   "outputs": [
    {
     "data": {
      "text/plain": [
       "4"
      ]
     },
     "execution_count": 8,
     "metadata": {},
     "output_type": "execute_result"
    }
   ],
   "source": [
    "arr1.size"
   ]
  },
  {
   "cell_type": "code",
   "execution_count": 15,
   "id": "008ad8eb-60b4-483d-8e65-251f129aec2e",
   "metadata": {},
   "outputs": [
    {
     "data": {
      "text/plain": [
       "numpy.ndarray"
      ]
     },
     "execution_count": 15,
     "metadata": {},
     "output_type": "execute_result"
    }
   ],
   "source": [
    "type(arr1)"
   ]
  },
  {
   "cell_type": "markdown",
   "id": "915640c4-5113-4600-8832-eaa567f6cd66",
   "metadata": {},
   "source": [
    "## Create 2D array"
   ]
  },
  {
   "cell_type": "code",
   "execution_count": 18,
   "id": "d069cfa5-aecd-41c9-bcdf-3f91ff0dcbb8",
   "metadata": {},
   "outputs": [],
   "source": [
    "arr2=np.array([[1,2,3],\n",
    "              [4,5,6]])\n"
   ]
  },
  {
   "cell_type": "code",
   "execution_count": 19,
   "id": "a83e644f-2a47-4da6-be03-95a915c8e95f",
   "metadata": {},
   "outputs": [
    {
     "data": {
      "text/plain": [
       "(2, 3)"
      ]
     },
     "execution_count": 19,
     "metadata": {},
     "output_type": "execute_result"
    }
   ],
   "source": [
    "arr2.shape\n"
   ]
  },
  {
   "cell_type": "code",
   "execution_count": 20,
   "id": "a4b8a397-8d2d-4ee6-b89d-7bed99c75e20",
   "metadata": {},
   "outputs": [
    {
     "data": {
      "text/plain": [
       "6"
      ]
     },
     "execution_count": 20,
     "metadata": {},
     "output_type": "execute_result"
    }
   ],
   "source": [
    "arr2.size\n"
   ]
  },
  {
   "cell_type": "code",
   "execution_count": 21,
   "id": "5bda307d-3378-4d8f-9cea-85e5a1d94932",
   "metadata": {},
   "outputs": [
    {
     "data": {
      "text/plain": [
       "numpy.ndarray"
      ]
     },
     "execution_count": 21,
     "metadata": {},
     "output_type": "execute_result"
    }
   ],
   "source": [
    "type(arr2)"
   ]
  },
  {
   "cell_type": "markdown",
   "id": "81be2417-4b03-4795-a6d9-21d2bf7113d5",
   "metadata": {},
   "source": [
    "## Create 3D Array"
   ]
  },
  {
   "cell_type": "code",
   "execution_count": 34,
   "id": "840fa0d8-3cb8-4abc-b47e-e95281cc235b",
   "metadata": {},
   "outputs": [],
   "source": [
    "arr3=np.array([[[1,2,3],[1,2,3]],[[1,3,4],[2,3,4]],[[1,2,3],[2,3,4]]])"
   ]
  },
  {
   "cell_type": "code",
   "execution_count": 35,
   "id": "54eb7e89-ff23-4767-bad9-024895cd2862",
   "metadata": {},
   "outputs": [
    {
     "data": {
      "text/plain": [
       "array([[[1, 2, 3],\n",
       "        [1, 2, 3]],\n",
       "\n",
       "       [[1, 3, 4],\n",
       "        [2, 3, 4]],\n",
       "\n",
       "       [[1, 2, 3],\n",
       "        [2, 3, 4]]])"
      ]
     },
     "execution_count": 35,
     "metadata": {},
     "output_type": "execute_result"
    }
   ],
   "source": [
    "arr3"
   ]
  },
  {
   "cell_type": "code",
   "execution_count": 36,
   "id": "038491b3-9634-4808-973a-444ca7cf11c3",
   "metadata": {},
   "outputs": [
    {
     "data": {
      "text/plain": [
       "(3, 2, 3)"
      ]
     },
     "execution_count": 36,
     "metadata": {},
     "output_type": "execute_result"
    }
   ],
   "source": [
    "arr3.shape\n"
   ]
  },
  {
   "cell_type": "code",
   "execution_count": 37,
   "id": "e12974e6-552d-491c-bc3c-85de4d30a7ec",
   "metadata": {},
   "outputs": [
    {
     "data": {
      "text/plain": [
       "3"
      ]
     },
     "execution_count": 37,
     "metadata": {},
     "output_type": "execute_result"
    }
   ],
   "source": [
    "arr3.ndim\n"
   ]
  },
  {
   "cell_type": "code",
   "execution_count": 38,
   "id": "38165d89-f766-4b06-9275-20a1c84b4c68",
   "metadata": {},
   "outputs": [
    {
     "data": {
      "text/plain": [
       "18"
      ]
     },
     "execution_count": 38,
     "metadata": {},
     "output_type": "execute_result"
    }
   ],
   "source": [
    "arr3.size"
   ]
  },
  {
   "cell_type": "code",
   "execution_count": 39,
   "id": "9f496d4c-c610-479d-966b-715974c26746",
   "metadata": {},
   "outputs": [
    {
     "data": {
      "text/plain": [
       "numpy.ndarray"
      ]
     },
     "execution_count": 39,
     "metadata": {},
     "output_type": "execute_result"
    }
   ],
   "source": [
    "type(arr3)"
   ]
  },
  {
   "cell_type": "code",
   "execution_count": 40,
   "id": "2f80dca6-9244-4568-ba96-b632db2fed6a",
   "metadata": {},
   "outputs": [
    {
     "data": {
      "text/plain": [
       "np.int64(3)"
      ]
     },
     "execution_count": 40,
     "metadata": {},
     "output_type": "execute_result"
    }
   ],
   "source": [
    "arr3[0,0,2]"
   ]
  },
  {
   "cell_type": "code",
   "execution_count": 41,
   "id": "2dda68e4-6fc7-4ff2-a226-1726c0b43beb",
   "metadata": {},
   "outputs": [
    {
     "data": {
      "text/plain": [
       "dtype('int64')"
      ]
     },
     "execution_count": 41,
     "metadata": {},
     "output_type": "execute_result"
    }
   ],
   "source": [
    "arr3.dtype"
   ]
  },
  {
   "cell_type": "code",
   "execution_count": 42,
   "id": "31d2e87c-2262-4311-bc86-d6e96f2af5c7",
   "metadata": {},
   "outputs": [
    {
     "data": {
      "text/plain": [
       "np.int64(3)"
      ]
     },
     "execution_count": 42,
     "metadata": {},
     "output_type": "execute_result"
    }
   ],
   "source": [
    "arr3[2,1,1]"
   ]
  },
  {
   "cell_type": "code",
   "execution_count": 44,
   "id": "c76d84d8-b93f-470e-beb7-79053750814f",
   "metadata": {},
   "outputs": [
    {
     "data": {
      "text/plain": [
       "array([[[1, 3, 4],\n",
       "        [2, 3, 4]],\n",
       "\n",
       "       [[1, 2, 3],\n",
       "        [2, 3, 4]]])"
      ]
     },
     "execution_count": 44,
     "metadata": {},
     "output_type": "execute_result"
    }
   ],
   "source": [
    "arr3[1:3]"
   ]
  },
  {
   "cell_type": "code",
   "execution_count": 46,
   "id": "a50e5951-c3bf-4580-8acd-bfd60a2c63da",
   "metadata": {},
   "outputs": [
    {
     "data": {
      "text/plain": [
       "array([[[1, 2, 3],\n",
       "        [1, 2, 3]],\n",
       "\n",
       "       [[1, 3, 4],\n",
       "        [2, 3, 4]]])"
      ]
     },
     "execution_count": 46,
     "metadata": {},
     "output_type": "execute_result"
    }
   ],
   "source": [
    "arr3[:-1]"
   ]
  },
  {
   "cell_type": "code",
   "execution_count": 140,
   "id": "83c1d1d9-33f9-42fd-bf52-4f3d7b8c236f",
   "metadata": {},
   "outputs": [
    {
     "data": {
      "text/plain": [
       "array([[[0., 0., 0.],\n",
       "        [0., 0., 0.]],\n",
       "\n",
       "       [[0., 0., 0.],\n",
       "        [0., 0., 0.]]])"
      ]
     },
     "execution_count": 140,
     "metadata": {},
     "output_type": "execute_result"
    }
   ],
   "source": [
    "zero=np.zeros((2,2,3))\n",
    "zero"
   ]
  },
  {
   "cell_type": "code",
   "execution_count": 147,
   "id": "b474bfa1-777e-488d-abe4-23d03bd585e4",
   "metadata": {},
   "outputs": [],
   "source": [
    "full = np.full((2,2,3),2)"
   ]
  },
  {
   "cell_type": "code",
   "execution_count": 67,
   "id": "ab27fd56-1aea-4c2c-945b-f8c77d9d404f",
   "metadata": {},
   "outputs": [
    {
     "data": {
      "text/plain": [
       "array([[[2, 2, 2],\n",
       "        [2, 2, 2],\n",
       "        [2, 2, 2]],\n",
       "\n",
       "       [[2, 2, 2],\n",
       "        [2, 2, 2],\n",
       "        [2, 2, 2]]])"
      ]
     },
     "execution_count": 67,
     "metadata": {},
     "output_type": "execute_result"
    }
   ],
   "source": [
    "full"
   ]
  },
  {
   "cell_type": "code",
   "execution_count": 69,
   "id": "0df38d84-b16b-4ee0-b2ee-d401e8fa6582",
   "metadata": {},
   "outputs": [
    {
     "data": {
      "text/plain": [
       "3"
      ]
     },
     "execution_count": 69,
     "metadata": {},
     "output_type": "execute_result"
    }
   ],
   "source": [
    "full.ndim"
   ]
  },
  {
   "cell_type": "code",
   "execution_count": 74,
   "id": "127add49-4e1f-4e7b-a2b1-4122c4a616b2",
   "metadata": {},
   "outputs": [
    {
     "data": {
      "text/plain": [
       "array([[[0.84340797]],\n",
       "\n",
       "       [[0.96064993]]])"
      ]
     },
     "execution_count": 74,
     "metadata": {},
     "output_type": "execute_result"
    }
   ],
   "source": [
    "arr4=np.random.rand(2,1,1)\n",
    "arr4"
   ]
  },
  {
   "cell_type": "code",
   "execution_count": 75,
   "id": "5320fb06-aabb-4208-b637-4e2866f81b9d",
   "metadata": {},
   "outputs": [
    {
     "data": {
      "text/plain": [
       "3"
      ]
     },
     "execution_count": 75,
     "metadata": {},
     "output_type": "execute_result"
    }
   ],
   "source": [
    "arr4.ndim"
   ]
  },
  {
   "cell_type": "markdown",
   "id": "d1e2124a-b6da-435e-aa76-f8cc3e5ee781",
   "metadata": {},
   "source": [
    "# Update & Delete"
   ]
  },
  {
   "cell_type": "code",
   "execution_count": 78,
   "id": "dbc3de49-62bb-4206-a616-dd09cf22a44f",
   "metadata": {},
   "outputs": [],
   "source": [
    "full[0,0,2]=5"
   ]
  },
  {
   "cell_type": "code",
   "execution_count": 79,
   "id": "66ee2c8c-0e61-4c24-98a9-29ae6f674fd7",
   "metadata": {},
   "outputs": [
    {
     "data": {
      "text/plain": [
       "array([[[2, 2, 5],\n",
       "        [2, 2, 2],\n",
       "        [2, 2, 2]],\n",
       "\n",
       "       [[2, 2, 2],\n",
       "        [2, 2, 2],\n",
       "        [2, 2, 2]]])"
      ]
     },
     "execution_count": 79,
     "metadata": {},
     "output_type": "execute_result"
    }
   ],
   "source": [
    "full\n"
   ]
  },
  {
   "cell_type": "code",
   "execution_count": 82,
   "id": "20c355c1-1cfc-4cbe-9d5b-ffcc4b5766d1",
   "metadata": {},
   "outputs": [],
   "source": [
    "del full"
   ]
  },
  {
   "cell_type": "code",
   "execution_count": 121,
   "id": "4bbe0197-9f35-4967-a4b3-92404162f4f8",
   "metadata": {},
   "outputs": [],
   "source": [
    "full=np.full((2,3,4),3)"
   ]
  },
  {
   "cell_type": "code",
   "execution_count": 86,
   "id": "f2bd3e70-2028-4cf2-b19e-e366581162df",
   "metadata": {},
   "outputs": [],
   "source": [
    "a1=np.random.rand(2,2,3)"
   ]
  },
  {
   "cell_type": "code",
   "execution_count": 87,
   "id": "3aa96f8a-0aed-407d-b473-df97b10d22dc",
   "metadata": {},
   "outputs": [
    {
     "data": {
      "text/plain": [
       "array([[[0.13287767, 0.40377235, 0.83648112],\n",
       "        [0.53574681, 0.24333879, 0.95414743]],\n",
       "\n",
       "       [[0.55184947, 0.47137076, 0.23768093],\n",
       "        [0.86454428, 0.25284022, 0.95690601]]])"
      ]
     },
     "execution_count": 87,
     "metadata": {},
     "output_type": "execute_result"
    }
   ],
   "source": [
    "a1\n"
   ]
  },
  {
   "cell_type": "code",
   "execution_count": 89,
   "id": "857f96e7-2d7d-41e2-9782-2ce69bd4cd44",
   "metadata": {},
   "outputs": [],
   "source": [
    "a1[0,0,1]=1"
   ]
  },
  {
   "cell_type": "code",
   "execution_count": 93,
   "id": "e17c481f-3b0d-4a42-a5f9-fe924d6f2c57",
   "metadata": {},
   "outputs": [],
   "source": [
    "a2=np.random.rand(2,2,3)"
   ]
  },
  {
   "cell_type": "code",
   "execution_count": 96,
   "id": "fa18ccd4-ccb3-43b4-ba8c-12e4e7bed425",
   "metadata": {},
   "outputs": [
    {
     "data": {
      "text/plain": [
       "array([[[0.81781563, 1.4318334 , 1.82466363],\n",
       "        [1.51505033, 0.83727088, 1.3857304 ]],\n",
       "\n",
       "       [[1.0517807 , 0.59139851, 0.66751584],\n",
       "        [0.95234971, 0.36159351, 0.96230288]]])"
      ]
     },
     "execution_count": 96,
     "metadata": {},
     "output_type": "execute_result"
    }
   ],
   "source": [
    "np.add(a1,a2)"
   ]
  },
  {
   "cell_type": "code",
   "execution_count": 97,
   "id": "9296239e-73cc-41fd-9ad0-c5857ff53be1",
   "metadata": {},
   "outputs": [
    {
     "data": {
      "text/plain": [
       "array([[[0.09101296, 0.4318334 , 0.82659601],\n",
       "        [0.52465874, 0.14452672, 0.41179378]],\n",
       "\n",
       "       [[0.27588678, 0.05657757, 0.10216356],\n",
       "        [0.07591169, 0.0274972 , 0.0051643 ]]])"
      ]
     },
     "execution_count": 97,
     "metadata": {},
     "output_type": "execute_result"
    }
   ],
   "source": [
    "np.multiply(a1,a2)"
   ]
  },
  {
   "cell_type": "code",
   "execution_count": 98,
   "id": "4cbd24c9-4817-4987-b402-5fafc9db61b3",
   "metadata": {},
   "outputs": [
    {
     "data": {
      "text/plain": [
       "array([[[  0.19399956,   2.31570788,   0.84648444],\n",
       "        [  0.54706921,   0.4097081 ,   2.21080878]],\n",
       "\n",
       "       [[  1.10385077,   3.92718142,   0.55295865],\n",
       "        [  9.84613616,   2.32489735, 177.30759697]]])"
      ]
     },
     "execution_count": 98,
     "metadata": {},
     "output_type": "execute_result"
    }
   ],
   "source": [
    "np.divide(a1,a2)"
   ]
  },
  {
   "cell_type": "markdown",
   "id": "612642b7-18e0-4fce-9275-ff334bf45310",
   "metadata": {},
   "source": [
    "##Apending and insert"
   ]
  },
  {
   "cell_type": "code",
   "execution_count": 153,
   "id": "3cce50cd-45b9-4c58-b023-67484dc80d71",
   "metadata": {},
   "outputs": [],
   "source": [
    "arr=np.append(full,zero,axis=1)"
   ]
  },
  {
   "cell_type": "code",
   "execution_count": 124,
   "id": "4534f56e-e586-4b63-af2f-6f01e7c045ed",
   "metadata": {},
   "outputs": [
    {
     "data": {
      "text/plain": [
       "3"
      ]
     },
     "execution_count": 124,
     "metadata": {},
     "output_type": "execute_result"
    }
   ],
   "source": [
    "full.ndim"
   ]
  },
  {
   "cell_type": "code",
   "execution_count": 125,
   "id": "f30d5199-1c0b-4295-9aa1-27e87bed58a8",
   "metadata": {},
   "outputs": [
    {
     "data": {
      "text/plain": [
       "3"
      ]
     },
     "execution_count": 125,
     "metadata": {},
     "output_type": "execute_result"
    }
   ],
   "source": [
    "zero.ndim"
   ]
  },
  {
   "cell_type": "code",
   "execution_count": 137,
   "id": "2803df43-0296-4ce4-8c85-f9fb53eb7a4e",
   "metadata": {},
   "outputs": [
    {
     "data": {
      "text/plain": [
       "24"
      ]
     },
     "execution_count": 137,
     "metadata": {},
     "output_type": "execute_result"
    }
   ],
   "source": [
    "full.size"
   ]
  },
  {
   "cell_type": "code",
   "execution_count": 127,
   "id": "2952e8da-a3db-4a78-9c61-96e9fd213b7b",
   "metadata": {},
   "outputs": [
    {
     "data": {
      "text/plain": [
       "24"
      ]
     },
     "execution_count": 127,
     "metadata": {},
     "output_type": "execute_result"
    }
   ],
   "source": [
    "full.size"
   ]
  },
  {
   "cell_type": "code",
   "execution_count": 139,
   "id": "7e5403d5-ffa9-4753-8577-d2edb89df7a4",
   "metadata": {},
   "outputs": [
    {
     "data": {
      "text/plain": [
       "18"
      ]
     },
     "execution_count": 139,
     "metadata": {},
     "output_type": "execute_result"
    }
   ],
   "source": [
    "zero.size"
   ]
  },
  {
   "cell_type": "code",
   "execution_count": 142,
   "id": "4228be5a-98b3-44ea-95e5-fa04da6ddddd",
   "metadata": {},
   "outputs": [],
   "source": [
    "zero=zero.reshape(2,2,3)"
   ]
  },
  {
   "cell_type": "code",
   "execution_count": 152,
   "id": "1b9f9f6b-93a2-4d61-b1a3-fbbc50bfbd70",
   "metadata": {},
   "outputs": [
    {
     "data": {
      "text/plain": [
       "array([[[2., 2., 2.],\n",
       "        [2., 2., 2.]],\n",
       "\n",
       "       [[2., 2., 2.],\n",
       "        [2., 2., 2.]],\n",
       "\n",
       "       [[0., 0., 0.],\n",
       "        [0., 0., 0.]],\n",
       "\n",
       "       [[0., 0., 0.],\n",
       "        [0., 0., 0.]]])"
      ]
     },
     "execution_count": 152,
     "metadata": {},
     "output_type": "execute_result"
    }
   ],
   "source": [
    "inserted_array=np.insert(zero,0,full,axis=0)\n",
    "inserted_array"
   ]
  },
  {
   "cell_type": "code",
   "execution_count": 144,
   "id": "a7dc7196-fa41-4897-af3b-84ae4a6602a6",
   "metadata": {},
   "outputs": [
    {
     "data": {
      "text/plain": [
       "(2, 2, 3)"
      ]
     },
     "execution_count": 144,
     "metadata": {},
     "output_type": "execute_result"
    }
   ],
   "source": [
    "zero.shape"
   ]
  },
  {
   "cell_type": "code",
   "execution_count": 145,
   "id": "e8bee045-7abb-4900-90a4-19f2d3fa0ee5",
   "metadata": {},
   "outputs": [
    {
     "data": {
      "text/plain": [
       "(2, 3, 4)"
      ]
     },
     "execution_count": 145,
     "metadata": {},
     "output_type": "execute_result"
    }
   ],
   "source": [
    "full.shape"
   ]
  },
  {
   "cell_type": "code",
   "execution_count": 148,
   "id": "052d156d-430c-4c68-9500-fd7404987671",
   "metadata": {},
   "outputs": [],
   "source": [
    "full=full.reshape(2,2,3)"
   ]
  },
  {
   "cell_type": "code",
   "execution_count": 149,
   "id": "c048675d-fbed-434e-a905-04111ab62601",
   "metadata": {},
   "outputs": [
    {
     "data": {
      "text/plain": [
       "(2, 2, 3)"
      ]
     },
     "execution_count": 149,
     "metadata": {},
     "output_type": "execute_result"
    }
   ],
   "source": [
    "full.shape"
   ]
  },
  {
   "cell_type": "code",
   "execution_count": 150,
   "id": "1c2d5794-8f55-45fe-8f1f-d49fe0213a9b",
   "metadata": {},
   "outputs": [
    {
     "data": {
      "text/plain": [
       "(2, 2, 3)"
      ]
     },
     "execution_count": 150,
     "metadata": {},
     "output_type": "execute_result"
    }
   ],
   "source": [
    "zero.shape"
   ]
  },
  {
   "cell_type": "code",
   "execution_count": 154,
   "id": "807e5081-e367-4ec0-bb08-ad9be3d4f85c",
   "metadata": {},
   "outputs": [
    {
     "data": {
      "text/plain": [
       "array([[[2., 2., 2.],\n",
       "        [2., 2., 2.],\n",
       "        [0., 0., 0.],\n",
       "        [0., 0., 0.]],\n",
       "\n",
       "       [[2., 2., 2.],\n",
       "        [2., 2., 2.],\n",
       "        [0., 0., 0.],\n",
       "        [0., 0., 0.]]])"
      ]
     },
     "execution_count": 154,
     "metadata": {},
     "output_type": "execute_result"
    }
   ],
   "source": [
    "arr"
   ]
  },
  {
   "cell_type": "code",
   "execution_count": null,
   "id": "3ec3ca18-314c-405c-883e-6d5791bcc270",
   "metadata": {},
   "outputs": [],
   "source": []
  }
 ],
 "metadata": {
  "kernelspec": {
   "display_name": "Python 3 (ipykernel)",
   "language": "python",
   "name": "python3"
  },
  "language_info": {
   "codemirror_mode": {
    "name": "ipython",
    "version": 3
   },
   "file_extension": ".py",
   "mimetype": "text/x-python",
   "name": "python",
   "nbconvert_exporter": "python",
   "pygments_lexer": "ipython3",
   "version": "3.13.5"
  }
 },
 "nbformat": 4,
 "nbformat_minor": 5
}
